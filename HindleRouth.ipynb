{
 "cells": [
  {
   "cell_type": "code",
   "execution_count": 2,
   "id": "b73f2cad-bb41-444a-baae-4c8a625342c1",
   "metadata": {},
   "outputs": [
    {
     "name": "stdout",
     "output_type": "stream",
     "text": [
      "Best attachment for the sentence 'sent soldiers into': None\n"
     ]
    }
   ],
   "source": [
    "#Hindle Rooth Algorithm\n",
    "\n",
    "from collections import defaultdict, Counter\n",
    "import re\n",
    "\n",
    "class HindleRoothAttachment:\n",
    "    def __init__(self, corpus):\n",
    "        self.corpus = corpus\n",
    "        self.prepositions = ['with', 'in', 'on', 'at', 'by', 'for'] # Example prepositions\n",
    "        self.preposition_count = defaultdict(Counter)\n",
    "        self.total_count = Counter()\n",
    "        self._train()\n",
    "\n",
    "    def _train(self):\n",
    "        # Process the corpus to count occurrences of prepositions and noun phrases\n",
    "        for sentence in self.corpus:\n",
    "            words = sentence.lower().split()\n",
    "            preps = [word for word in words if word in self.prepositions]\n",
    "            nouns = [word for word in words if word not in self.prepositions]\n",
    "            \n",
    "            if not preps or not nouns:\n",
    "                continue\n",
    "            \n",
    "            for prep in preps:\n",
    "                for noun in nouns:\n",
    "                    self.preposition_count[prep][noun] += 1\n",
    "                    self.total_count[prep] += 1\n",
    "\n",
    "    def predict_attachment(self, sentence):\n",
    "        words = sentence.lower().split()\n",
    "        preps = [word for word in words if word in self.prepositions]\n",
    "        nouns = [word for word in words if word not in self.prepositions]\n",
    "\n",
    "        if not preps or not nouns:\n",
    "            return None\n",
    "\n",
    "        # Calculate likelihood for each preposition-noun pair\n",
    "        likelihoods = defaultdict(float)\n",
    "        for prep in preps:\n",
    "            for noun in nouns:\n",
    "                count_pn = self.preposition_count[prep].get(noun, 0)\n",
    "                count_p = self.total_count[prep]\n",
    "                if count_p > 0:\n",
    "                    likelihoods[(prep, noun)] = count_pn / count_p\n",
    "\n",
    "        # Find the best attachment based on the highest likelihood\n",
    "        best_attachment = max(likelihoods, key=likelihoods.get, default=None)\n",
    "        return best_attachment\n",
    "\n",
    "# Example usage\n",
    "corpus = [\n",
    "    \"Moscow sent more than 10000 soldiers into Afghanistan.\"\n",
    "]\n",
    "\n",
    "hr = HindleRoothAttachment(corpus)\n",
    "\n",
    "sentence = \"sent soldiers into\"\n",
    "attachment = hr.predict_attachment(sentence)\n",
    "print(f\"Best attachment for the sentence '{sentence}': {attachment}\")\n",
    "\n",
    "        \n"
   ]
  },
  {
   "cell_type": "code",
   "execution_count": 3,
   "id": "fa5866dc-21bc-44ea-8f8a-daf747d6f3c6",
   "metadata": {},
   "outputs": [
    {
     "name": "stdout",
     "output_type": "stream",
     "text": [
      "Probability of 'into Afghanistan' modifying 'soldiers': 0.800\n",
      "Probability of 'into Afghanistan' modifying 'soldier's': 0.200\n",
      "The most likely attachment is 'into Afghanistan' modifying 'soldiers'.\n"
     ]
    }
   ],
   "source": [
    "# Define counts (for demonstration purposes)\n",
    "count_pp_with_afghanistan = {\n",
    "    \"soldiers\": 200,   # Count of \"into Afghanistan\" modifying \"soldiers\"\n",
    "    \"soldier's\": 50    # Count of \"into Afghanistan\" modifying \"soldier's\"\n",
    "}\n",
    "total_count_pp = 250  # Total count of the PP \"into Afghanistan\"\n",
    "\n",
    "# Define the counts for the two possible attachments\n",
    "count_soldiers = count_pp_with_afghanistan[\"soldiers\"]\n",
    "count_soldier_possessive = count_pp_with_afghanistan[\"soldier's\"]\n",
    "\n",
    "# Calculate probabilities\n",
    "def calculate_probability(count_attachment, total_count_pp):\n",
    "    return count_attachment / total_count_pp\n",
    "\n",
    "# Calculate the probabilities for each attachment\n",
    "probability_soldiers = calculate_probability(count_soldiers, total_count_pp)\n",
    "probability_soldier_possessive = calculate_probability(count_soldier_possessive, total_count_pp)\n",
    "\n",
    "# Print results\n",
    "print(f\"Probability of 'into Afghanistan' modifying 'soldiers': {probability_soldiers:.3f}\")\n",
    "print(f\"Probability of 'into Afghanistan' modifying 'soldier's': {probability_soldier_possessive:.3f}\")\n",
    "\n",
    "# Determine the most likely attachment\n",
    "if probability_soldiers > probability_soldier_possessive:\n",
    "    print(\"The most likely attachment is 'into Afghanistan' modifying 'soldiers'.\")\n",
    "else:\n",
    "    print(\"The most likely attachment is 'into Afghanistan' modifying 'soldier's'.\")\n"
   ]
  },
  {
   "cell_type": "code",
   "execution_count": 9,
   "id": "9576865a-49a5-4946-935f-cf5ca224e3ad",
   "metadata": {},
   "outputs": [
    {
     "name": "stdin",
     "output_type": "stream",
     "text": [
      "Enter the verb:  end\n",
      "Enter the noun:  venture\n",
      "Enter the preposition:  with\n",
      "Enter the occurrence of the preposition 'with' with the verb 'end':  607\n",
      "Enter the total occurrences of the verb 'end':  5156\n",
      "Enter the occurrence of the preposition 'with' with the noun 'venture':  155\n",
      "Enter the total occurrences of the noun 'venture':  1442\n"
     ]
    },
    {
     "name": "stdout",
     "output_type": "stream",
     "text": [
      "λ(end, venture, with) = -0.0328\n",
      "PP attaches with the Noun.\n"
     ]
    }
   ],
   "source": [
    "import math\n",
    "\n",
    "# Step 1: Ask the user for occurrence counts\n",
    "def get_user_input():\n",
    "    verb = input(\"Enter the verb: \").strip()\n",
    "    noun = input(\"Enter the noun: \").strip()\n",
    "    prep = input(\"Enter the preposition: \").strip()\n",
    "   \n",
    "    verb_prep_count = int(input(f\"Enter the occurrence of the preposition '{prep}' with the verb '{verb}': \"))\n",
    "    verb_total_count = int(input(f\"Enter the total occurrences of the verb '{verb}': \"))\n",
    "   \n",
    "    noun_prep_count = int(input(f\"Enter the occurrence of the preposition '{prep}' with the noun '{noun}': \"))\n",
    "    noun_total_count = int(input(f\"Enter the total occurrences of the noun '{noun}': \"))\n",
    "\n",
    "    return verb, noun, prep, verb_prep_count, verb_total_count, noun_prep_count, noun_total_count\n",
    "\n",
    "# Step 2: Calculate Probabilities and λ(v, n, p)\n",
    "def calculate_lambda(verb, noun, prep, verb_prep_count, verb_total_count, noun_prep_count, noun_total_count):\n",
    "    # Calculate P(VA_p = 1 | v)\n",
    "    P_VAp = verb_prep_count / verb_total_count if verb_total_count > 0 else 0\n",
    "   \n",
    "    # Calculate P(NA_p = 1 | n)\n",
    "    P_NAp = noun_prep_count / noun_total_count if noun_total_count > 0 else 0\n",
    "   \n",
    "    # Calculate P(NA_p = 0 | n)\n",
    "    P_NAp_0 = 1 - P_NAp\n",
    "\n",
    "    # Handle case where probabilities might cause division by zero\n",
    "    if P_NAp == 0:\n",
    "        return None, \"Error: P(NA(p) = 1 | n) is zero, which causes invalid calculation.\"\n",
    "   \n",
    "    # Ensure that we do not take log2 of zero or a negative number\n",
    "    numerator = P_VAp * P_NAp_0\n",
    "    if numerator <= 0:\n",
    "        return None, \"Error: The numerator in the Lambda calculation is zero or negative.\"\n",
    "\n",
    "    lambda_value = math.log2(numerator / P_NAp)\n",
    "   \n",
    "    return lambda_value, None\n",
    "\n",
    "# Step 3: Determine the attachment\n",
    "def determine_attachment(lambda_value):\n",
    "    if lambda_value > 0:\n",
    "        return \"PP attaches with the Verb.\"\n",
    "    else:\n",
    "        return \"PP attaches with the Noun.\"\n",
    "\n",
    "# Step 4: Interactive User Input\n",
    "def hindle_rooth_algorithm():\n",
    "    verb, noun, prep, verb_prep_count, verb_total_count, noun_prep_count, noun_total_count = get_user_input()\n",
    "\n",
    "    lambda_value, error_message = calculate_lambda(verb, noun, prep, verb_prep_count, verb_total_count, noun_prep_count, noun_total_count)\n",
    "   \n",
    "    if error_message:\n",
    "        print(error_message)\n",
    "    else:\n",
    "        result = determine_attachment(lambda_value)\n",
    "        print(f\"λ({verb}, {noun}, {prep}) = {lambda_value:.4f}\")\n",
    "        print(result)\n",
    "\n",
    "# Run the interactive algorithm\n",
    "hindle_rooth_algorithm()"
   ]
  },
  {
   "cell_type": "code",
   "execution_count": null,
   "id": "3afd50a6-d6fb-4ea4-9220-d658ab5c966f",
   "metadata": {},
   "outputs": [
    {
     "name": "stdin",
     "output_type": "stream",
     "text": [
      "enter the noun from the text sai\n",
      "enter the verb from the text  went\n",
      "enter the preposition from the text in\n",
      "entr the noun count 20\n",
      "enter the verb count 10\n",
      "enter the noun preposition count 14\n"
     ]
    }
   ],
   "source": [
    "import math\n",
    "from math import log2 as lg\n",
    "noun=input(\"enter the noun from the text\")\n",
    "verb=input(\"enter the verb from the text \")\n",
    "prepo=input(\"enter the preposition from the text\")\n",
    "noun_count=int(input(\"entr the noun count\"))\n",
    "verb_count=int(input(\"enter the verb count\"))\n",
    "np_count=int(input(\"enter the noun preposition count\"))\n",
    "vp_count=int(input(\"enter vp_count\"))\n",
    "prob_vp=vp_count/verb_count\n",
    "prob_np=np_count/noun_count\n",
    "prob_np_not=1-prob_np\n",
    "lambdaa=lg((prob_vp*prob_np_not)/prob_np)\n",
    "print(lambdaa)\n",
    "if lambdaa>0:\n",
    "    print(\"PP with Verb\")\n",
    "else:\n",
    "    print(\"PP with Noun\")"
   ]
  },
  {
   "cell_type": "code",
   "execution_count": null,
   "id": "1aa2b827-7457-4a2f-b13d-fac05ec05cbf",
   "metadata": {},
   "outputs": [],
   "source": []
  }
 ],
 "metadata": {
  "kernelspec": {
   "display_name": "Python 3 (ipykernel)",
   "language": "python",
   "name": "python3"
  },
  "language_info": {
   "codemirror_mode": {
    "name": "ipython",
    "version": 3
   },
   "file_extension": ".py",
   "mimetype": "text/x-python",
   "name": "python",
   "nbconvert_exporter": "python",
   "pygments_lexer": "ipython3",
   "version": "3.11.7"
  }
 },
 "nbformat": 4,
 "nbformat_minor": 5
}
